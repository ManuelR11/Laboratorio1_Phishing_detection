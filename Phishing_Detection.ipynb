{
 "cells": [
  {
   "cell_type": "markdown",
   "metadata": {},
   "source": [
    "# Laboratorio #1 – Detección de Pishing"
   ]
  },
  {
   "cell_type": "code",
   "execution_count": 12,
   "metadata": {},
   "outputs": [],
   "source": [
    "import pandas as pd\n",
    "import re\n",
    "import math\n",
    "import matplotlib.pyplot as plt\n",
    "import seaborn as sns\n",
    "from urllib.parse import urlparse"
   ]
  },
  {
   "cell_type": "code",
   "execution_count": 2,
   "metadata": {},
   "outputs": [],
   "source": [
    "df = pd.read_csv(\"dataset_pishing.csv\")"
   ]
  },
  {
   "cell_type": "code",
   "execution_count": 3,
   "metadata": {},
   "outputs": [
    {
     "name": "stdout",
     "output_type": "stream",
     "text": [
      "Ejemplo de cinco observaciones:\n",
      "                                                 url      status\n",
      "0              http://www.crestonwood.com/router.php  legitimate\n",
      "1  http://shadetreetechnology.com/V4/validation/a...    phishing\n",
      "2  https://support-appleld.com.secureupdate.duila...    phishing\n",
      "3                                 http://rgipt.ac.in  legitimate\n",
      "4  http://www.iracing.com/tracks/gateway-motorspo...  legitimate\n"
     ]
    }
   ],
   "source": [
    "# Mostrar un ejemplo de cinco observaciones\n",
    "print(\"Ejemplo de cinco observaciones:\")\n",
    "print(df.head())\n"
   ]
  },
  {
   "cell_type": "code",
   "execution_count": 4,
   "metadata": {},
   "outputs": [
    {
     "name": "stdout",
     "output_type": "stream",
     "text": [
      "\n",
      "Cantidad de observaciones por categoría:\n",
      "status\n",
      "legitimate    5715\n",
      "phishing      5715\n",
      "Name: count, dtype: int64\n"
     ]
    }
   ],
   "source": [
    "status_counts = df[\"status\"].value_counts()\n",
    "print(\"\\nCantidad de observaciones por categoría:\")\n",
    "print(status_counts)"
   ]
  },
  {
   "cell_type": "code",
   "execution_count": 5,
   "metadata": {},
   "outputs": [
    {
     "name": "stdout",
     "output_type": "stream",
     "text": [
      "\n",
      "Balance del dataset:\n",
      "Proporción entre clases (legitimate/phishing): 1.00\n"
     ]
    }
   ],
   "source": [
    "balance_ratio = status_counts[\"legitimate\"] / status_counts[\"phishing\"] if \"phishing\" in status_counts else None\n",
    "print(\"\\nBalance del dataset:\")\n",
    "print(f\"Proporción entre clases (legitimate/phishing): {balance_ratio:.2f}\")"
   ]
  },
  {
   "cell_type": "markdown",
   "metadata": {},
   "source": [
    "##### ¿Qué ventajas tiene el análisis de una URL contra el análisis de otros datos, cómo el tiempo de vida del dominio, o las características de la página Web?"
   ]
  },
  {
   "cell_type": "markdown",
   "metadata": {},
   "source": [
    "Alguna de las ventajas pueden ser:\n",
    "\n",
    "- Detección en tiempo real: Las páginas de phishing suelen tener una vida útil corta, a veces solo unas pocas horas. El análisis de URL permite detectar amenazas sin necesidad de cargar la página, lo que mejora la velocidad de detección​ y es por ello que se llega a detectar de manera instantanea\n",
    "\n",
    "- Independencia de idioma: No depende del idioma del contenido de la página, lo que lo hace aplicable a sitios web globales​\n",
    "\n",
    "- No depende de servicios de terceros: Algunos enfoques requieren consultas a servicios como WHOIS o listas negras, lo que puede ralentizar la detección y hacerla dependiente de servicios externos​\n",
    "\n",
    "- Detección de ataques de \"día cero\": Puede identificar nuevas amenazas de phishing sin depender de listas de dominios maliciosos previamente identificados​\n"
   ]
  },
  {
   "cell_type": "markdown",
   "metadata": {},
   "source": [
    "##### ¿Qué características de una URL son más prometedoras para la detección de phishing?"
   ]
  },
  {
   "cell_type": "markdown",
   "metadata": {},
   "source": [
    "Algunas de las caracteristicas son:\n",
    "\n",
    "- Observar la longitud de la URL y del dominio: Los sitios de phishing suelen usar URLs largas para ocultar la identidad real del dominio​\n",
    "\n",
    "- Uso de direcciones IP en la URL: Los atacantes suelen usar direcciones IP en lugar de nombres de dominio​\n",
    "\n",
    "- Número de subdominios: Los sitios de phishing tienden a incluir múltiples subdominios para parecer legítimos​\n",
    "\n",
    "- Presencia de caracteres especiales: Caracteres como \"-\", \"@\" y \"?\" pueden indicar intentos de uan direccion falsa\n",
    "\n",
    "- Uso de Punycode: Los sitios maliciosos pueden emplear caracteres Unicode en los nombres de dominio para parecer legítimos​\n",
    "\n",
    "- HTTPS vs HTTP: Aunque algunos sitios de phishing usan HTTPS, muchos siguen operando con HTTP​\n",
    "\n",
    "- Cantidad de números en la URL: Un número excesivo de dígitos en la URL puede indicar phishing​\n",
    "\n",
    "- Uso de servicios de acortamiento de URL: Los atacantes usan acortadores para ocultar la URL real​\n",
    "\n",
    "- Número de guiones en el dominio: Sitios de phishing suelen incluir guiones para imitar dominios legítimos​\n",
    "\n",
    "- Posición del TLD: Si el TLD aparece en la parte de la ruta de la URL en lugar del dominio, puede ser indicativo de phishing​\n",
    "\n",
    "- Presencia de palabras clave sospechosas: Palabras como \"login\", \"secure\", \"bank\", \"update\" pueden ser indicativos de phishing​\n",
    "\n",
    "- Número de parámetros en la URL: Un alto número de parámetros puede indicar intentos de manipulación​\n",
    "\n",
    "- Frecuencia de caracteres no alfanuméricos: La entropía de caracteres especiales puede ser usada para detectar URLs de phishing​\n",
    "\n",
    "- Presencia de direcciones de correo en la URL: Los sitios de phishing pueden incluir direcciones de correo falsas en la URL​\n",
    "\n",
    "- Entropía de Shannon y relativa: Mide la aleatoriedad de la cadena de la URL, útil para detectar URLs generadas automáticamente​\n",
    "\n"
   ]
  },
  {
   "cell_type": "code",
   "execution_count": 6,
   "metadata": {},
   "outputs": [],
   "source": [
    "def shannon_entropy(string):\n",
    "    prob = [float(string.count(c)) / len(string) for c in dict.fromkeys(list(string))]\n",
    "    entropy = -sum([p * math.log2(p) for p in prob])\n",
    "    return entropy"
   ]
  },
  {
   "cell_type": "code",
   "execution_count": null,
   "metadata": {},
   "outputs": [],
   "source": [
    "\n",
    "def relative_entropy(string):\n",
    "    return shannon_entropy(string) / math.log2(len(string)) if len(string) > 1 else 0\n"
   ]
  },
  {
   "cell_type": "code",
   "execution_count": null,
   "metadata": {},
   "outputs": [],
   "source": [
    "\n",
    "def extract_features(url):\n",
    "    parsed = urlparse(url)\n",
    "    domain = parsed.netloc\n",
    "    path = parsed.path\n",
    "    \n",
    "    features = {\n",
    "        \"url_length\": len(url),\n",
    "        \"domain_length\": len(domain),\n",
    "        \"num_subdomains\": domain.count('.'),\n",
    "        \"contains_ip\": bool(re.match(r'^\\d{1,3}(\\.\\d{1,3}){3}$', domain)),\n",
    "        \"num_special_chars\": sum([url.count(c) for c in \"-@?&|=_~%/\"]),\n",
    "        \"https_token\": 1 if url.startswith(\"https\") else 0,\n",
    "        \"digit_ratio\": sum(c.isdigit() for c in url) / len(url),\n",
    "        \"shortened_url\": 1 if any(service in url for service in [\"bit.ly\", \"goo.gl\", \"tinyurl\"]) else 0,\n",
    "        \"num_hyphens\": domain.count(\"-\"),\n",
    "        \"tld_position\": 1 if \".com/\" in path or \".net/\" in path else 0,\n",
    "        \"num_suspicious_words\": sum(1 for word in [\"login\", \"secure\", \"bank\", \"update\"] if word in url),\n",
    "        \"num_parameters\": url.count(\"=\"),\n",
    "        \"email_in_url\": 1 if \"@\" in url else 0,\n",
    "        \"shannon_entropy\": shannon_entropy(url),\n",
    "        \"relative_entropy\": relative_entropy(url)\n",
    "    }\n",
    "    return features"
   ]
  },
  {
   "cell_type": "code",
   "execution_count": null,
   "metadata": {},
   "outputs": [
    {
     "name": "stdout",
     "output_type": "stream",
     "text": [
      "                                                 url      status  url_length  \\\n",
      "0              http://www.crestonwood.com/router.php  legitimate          37   \n",
      "1  http://shadetreetechnology.com/V4/validation/a...    phishing          77   \n",
      "2  https://support-appleld.com.secureupdate.duila...    phishing         126   \n",
      "3                                 http://rgipt.ac.in  legitimate          18   \n",
      "4  http://www.iracing.com/tracks/gateway-motorspo...  legitimate          55   \n",
      "\n",
      "   domain_length  num_subdomains  contains_ip  num_special_chars  https_token  \\\n",
      "0             19               2        False                  3            0   \n",
      "1             23               1        False                  5            0   \n",
      "2             50               4        False                 14            1   \n",
      "3             11               2        False                  2            0   \n",
      "4             15               2        False                  7            0   \n",
      "\n",
      "   digit_ratio  shortened_url  ...  https_token  digit_ratio  shortened_url  \\\n",
      "0     0.000000              0  ...            0     0.000000              0   \n",
      "1     0.220779              0  ...            0     0.220779              0   \n",
      "2     0.150794              0  ...            1     0.150794              0   \n",
      "3     0.000000              0  ...            0     0.000000              0   \n",
      "4     0.000000              0  ...            0     0.000000              0   \n",
      "\n",
      "   num_hyphens  tld_position  num_suspicious_words  num_parameters  \\\n",
      "0            0             0                     0               0   \n",
      "1            0             0                     0               0   \n",
      "2            1             0                     2               3   \n",
      "3            0             0                     0               0   \n",
      "4            0             0                     0               0   \n",
      "\n",
      "   email_in_url  shannon_entropy  relative_entropy  \n",
      "0             0         3.787043          0.726956  \n",
      "1             0         4.419864          0.705284  \n",
      "2             0         4.753412          0.681270  \n",
      "3             0         3.461320          0.830068  \n",
      "4             0         4.097662          0.708771  \n",
      "\n",
      "[5 rows x 47 columns]\n"
     ]
    },
    {
     "data": {
      "image/png": "[encoded data removed]",
      "text/plain": [
       "<Figure size 800x400 with 1 Axes>"
      ]
     },
     "metadata": {},
     "output_type": "display_data"
    }
   ],
   "source": [
    "\n",
    "df_features = df[\"url\"].apply(lambda x: extract_features(x)).apply(pd.Series)\n",
    "df = pd.concat([df, df_features], axis=1)\n",
    "\n",
    "\n",
    "df.to_csv(\"dataset_enriquecido.csv\", index=False)\n",
    "\n",
    "\n",
    "print(df.head())\n",
    "\n",
    "\n",
    "plt.figure(figsize=(8, 4))\n",
    "sns.countplot(x=df[\"status\"])\n",
    "plt.title(\"Distribución de etiquetas en el dataset\")\n",
    "plt.xlabel(\"Categoría\")\n",
    "plt.ylabel(\"Cantidad\")\n",
    "plt.show()"
   ]
  },
  {
   "cell_type": "code",
   "execution_count": null,
   "metadata": {},
   "outputs": [],
   "source": [
    "\n",
    "df_features = df[\"url\"].apply(lambda x: extract_features(x)).apply(pd.Series)\n",
    "df_binaria = pd.concat([df, df_features], axis=1)"
   ]
  },
  {
   "cell_type": "code",
   "execution_count": null,
   "metadata": {},
   "outputs": [
    {
     "name": "stdout",
     "output_type": "stream",
     "text": [
      "                                                 url  status  url_length  \\\n",
      "0              http://www.crestonwood.com/router.php       0          37   \n",
      "1  http://shadetreetechnology.com/V4/validation/a...       1          77   \n",
      "2  https://support-appleld.com.secureupdate.duila...       1         126   \n",
      "3                                 http://rgipt.ac.in       0          18   \n",
      "4  http://www.iracing.com/tracks/gateway-motorspo...       0          55   \n",
      "\n",
      "   num_subdomains  contains_ip  num_special_chars  https_token  digit_ratio  \\\n",
      "0               2        False                  3            0     0.000000   \n",
      "1               1        False                  5            0     0.220779   \n",
      "2               4        False                 14            1     0.150794   \n",
      "3               2        False                  2            0     0.000000   \n",
      "4               2        False                  7            0     0.000000   \n",
      "\n",
      "   shortened_url  num_hyphens  ...  https_token  digit_ratio  shortened_url  \\\n",
      "0              0            0  ...            0     0.000000              0   \n",
      "1              0            0  ...            0     0.220779              0   \n",
      "2              0            1  ...            1     0.150794              0   \n",
      "3              0            0  ...            0     0.000000              0   \n",
      "4              0            0  ...            0     0.000000              0   \n",
      "\n",
      "   num_hyphens  tld_position  num_suspicious_words  num_parameters  \\\n",
      "0            0             0                     0               0   \n",
      "1            0             0                     0               0   \n",
      "2            1             0                     2               3   \n",
      "3            0             0                     0               0   \n",
      "4            0             0                     0               0   \n",
      "\n",
      "   email_in_url  shannon_entropy  relative_entropy  \n",
      "0             0         3.787043          0.726956  \n",
      "1             0         4.419864          0.705284  \n",
      "2             0         4.753412          0.681270  \n",
      "3             0         3.461320          0.830068  \n",
      "4             0         4.097662          0.708771  \n",
      "\n",
      "[5 rows x 58 columns]\n"
     ]
    },
    {
     "data": {
      "image/png": "[encoded data removed]",
      "text/plain": [
       "<Figure size 800x400 with 1 Axes>"
      ]
     },
     "metadata": {},
     "output_type": "display_data"
    }
   ],
   "source": [
    "\n",
    "df_binaria['status'] = df_binaria['status'].map({'legitimate': 0, 'phishing': 1})\n",
    "\n",
    "\n",
    "df_binaria.drop(columns=['domain_length'], inplace=True, errors='ignore')\n",
    "\n",
    "\n",
    "df_binaria.to_csv(\"dataset_enriquecido_binario.csv\", index=False)\n",
    "\n",
    "\n",
    "print(df_binaria.head())\n",
    "\n",
    "\n",
    "plt.figure(figsize=(8, 4))\n",
    "sns.countplot(x=df_binaria[\"status\"])\n",
    "plt.title(\"Distribución de etiquetas en el dataset\")\n",
    "plt.xlabel(\"Categoría\")\n",
    "plt.ylabel(\"Cantidad\")\n",
    "plt.show()\n"
   ]
  }
 ],
 "metadata": {
  "kernelspec": {
   "display_name": "Python 3",
   "language": "python",
   "name": "python3"
  },
  "language_info": {
   "codemirror_mode": {
    "name": "ipython",
    "version": 3
   },
   "file_extension": ".py",
   "mimetype": "text/x-python",
   "name": "python",
   "nbconvert_exporter": "python",
   "pygments_lexer": "ipython3",
   "version": "3.13.1"
  }
 },
 "nbformat": 4,
 "nbformat_minor": 2
}
